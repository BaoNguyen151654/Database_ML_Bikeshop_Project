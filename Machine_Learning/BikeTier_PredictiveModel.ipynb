{
  "nbformat": 4,
  "nbformat_minor": 0,
  "metadata": {
    "colab": {
      "provenance": [],
      "authorship_tag": "ABX9TyM9Fj8lEt+E1WQrlGHLM5AP",
      "include_colab_link": true
    },
    "kernelspec": {
      "name": "python3",
      "display_name": "Python 3"
    },
    "language_info": {
      "name": "python"
    }
  },
  "cells": [
    {
      "cell_type": "markdown",
      "metadata": {
        "id": "view-in-github",
        "colab_type": "text"
      },
      "source": [
        "<a href=\"https://colab.research.google.com/github/BaoNguyen151654/Database_ML_Bikeshop_Project/blob/master/BikeTier_Model.ipynb\" target=\"_parent\"><img src=\"https://colab.research.google.com/assets/colab-badge.svg\" alt=\"Open In Colab\"/></a>"
      ]
    },
    {
      "cell_type": "markdown",
      "source": [
        "# **Data Overview**\n",
        "\n"
      ],
      "metadata": {
        "id": "OZ4QmGDc4xkb"
      }
    },
    {
      "cell_type": "markdown",
      "source": [
        "Import necessary libraries"
      ],
      "metadata": {
        "id": "Is2u2C665AuS"
      }
    },
    {
      "cell_type": "code",
      "execution_count": 1,
      "metadata": {
        "id": "I_e2n8TqqYbt"
      },
      "outputs": [],
      "source": [
        "import pandas as pd\n",
        "import numpy as np\n",
        "from sklearn.model_selection import train_test_split, cross_val_score, StratifiedKFold\n",
        "from sklearn.metrics import classification_report, roc_curve, auc\n",
        "from sklearn.preprocessing import StandardScaler, LabelEncoder, label_binarize\n",
        "from imblearn.over_sampling import SMOTE\n",
        "from sklearn.linear_model import LogisticRegression\n",
        "from scipy.stats import chi2_contingency\n",
        "import matplotlib.pyplot as plt"
      ]
    },
    {
      "cell_type": "code",
      "source": [
        "df=pd.read_csv('/content/Data_for_ML.csv')\n",
        "df.head()"
      ],
      "metadata": {
        "colab": {
          "base_uri": "https://localhost:8080/",
          "height": 226
        },
        "id": "IXMa3vblqozl",
        "outputId": "a9cfbd73-f542-4b58-a912-0914cb6e926a"
      },
      "execution_count": 2,
      "outputs": [
        {
          "output_type": "execute_result",
          "data": {
            "text/plain": [
              "   customer_id  total_spent  latest_purchased_brand latest_brand_tier  \\\n",
              "0           94   34807.9392                       9              high   \n",
              "1           94   34807.9392                       9              high   \n",
              "2           94   34807.9392                       9              high   \n",
              "3           94   34807.9392                       9              high   \n",
              "4           94   34807.9392                       9              high   \n",
              "\n",
              "   most_purchased_brand most_purchased_brand_tier latest_brand_name  \\\n",
              "0                     9                      high              Trek   \n",
              "1                     9                      high              Trek   \n",
              "2                     9                      high              Trek   \n",
              "3                     9                      high              Trek   \n",
              "4                     9                      high              Trek   \n",
              "\n",
              "  most_purchased_brand_name  \n",
              "0                      Trek  \n",
              "1                      Trek  \n",
              "2                      Trek  \n",
              "3                      Trek  \n",
              "4                      Trek  "
            ],
            "text/html": [
              "\n",
              "  <div id=\"df-89f8d088-21dd-4781-bcc6-71e5e0225664\" class=\"colab-df-container\">\n",
              "    <div>\n",
              "<style scoped>\n",
              "    .dataframe tbody tr th:only-of-type {\n",
              "        vertical-align: middle;\n",
              "    }\n",
              "\n",
              "    .dataframe tbody tr th {\n",
              "        vertical-align: top;\n",
              "    }\n",
              "\n",
              "    .dataframe thead th {\n",
              "        text-align: right;\n",
              "    }\n",
              "</style>\n",
              "<table border=\"1\" class=\"dataframe\">\n",
              "  <thead>\n",
              "    <tr style=\"text-align: right;\">\n",
              "      <th></th>\n",
              "      <th>customer_id</th>\n",
              "      <th>total_spent</th>\n",
              "      <th>latest_purchased_brand</th>\n",
              "      <th>latest_brand_tier</th>\n",
              "      <th>most_purchased_brand</th>\n",
              "      <th>most_purchased_brand_tier</th>\n",
              "      <th>latest_brand_name</th>\n",
              "      <th>most_purchased_brand_name</th>\n",
              "    </tr>\n",
              "  </thead>\n",
              "  <tbody>\n",
              "    <tr>\n",
              "      <th>0</th>\n",
              "      <td>94</td>\n",
              "      <td>34807.9392</td>\n",
              "      <td>9</td>\n",
              "      <td>high</td>\n",
              "      <td>9</td>\n",
              "      <td>high</td>\n",
              "      <td>Trek</td>\n",
              "      <td>Trek</td>\n",
              "    </tr>\n",
              "    <tr>\n",
              "      <th>1</th>\n",
              "      <td>94</td>\n",
              "      <td>34807.9392</td>\n",
              "      <td>9</td>\n",
              "      <td>high</td>\n",
              "      <td>9</td>\n",
              "      <td>high</td>\n",
              "      <td>Trek</td>\n",
              "      <td>Trek</td>\n",
              "    </tr>\n",
              "    <tr>\n",
              "      <th>2</th>\n",
              "      <td>94</td>\n",
              "      <td>34807.9392</td>\n",
              "      <td>9</td>\n",
              "      <td>high</td>\n",
              "      <td>9</td>\n",
              "      <td>high</td>\n",
              "      <td>Trek</td>\n",
              "      <td>Trek</td>\n",
              "    </tr>\n",
              "    <tr>\n",
              "      <th>3</th>\n",
              "      <td>94</td>\n",
              "      <td>34807.9392</td>\n",
              "      <td>9</td>\n",
              "      <td>high</td>\n",
              "      <td>9</td>\n",
              "      <td>high</td>\n",
              "      <td>Trek</td>\n",
              "      <td>Trek</td>\n",
              "    </tr>\n",
              "    <tr>\n",
              "      <th>4</th>\n",
              "      <td>94</td>\n",
              "      <td>34807.9392</td>\n",
              "      <td>9</td>\n",
              "      <td>high</td>\n",
              "      <td>9</td>\n",
              "      <td>high</td>\n",
              "      <td>Trek</td>\n",
              "      <td>Trek</td>\n",
              "    </tr>\n",
              "  </tbody>\n",
              "</table>\n",
              "</div>\n",
              "    <div class=\"colab-df-buttons\">\n",
              "\n",
              "  <div class=\"colab-df-container\">\n",
              "    <button class=\"colab-df-convert\" onclick=\"convertToInteractive('df-89f8d088-21dd-4781-bcc6-71e5e0225664')\"\n",
              "            title=\"Convert this dataframe to an interactive table.\"\n",
              "            style=\"display:none;\">\n",
              "\n",
              "  <svg xmlns=\"http://www.w3.org/2000/svg\" height=\"24px\" viewBox=\"0 -960 960 960\">\n",
              "    <path d=\"M120-120v-720h720v720H120Zm60-500h600v-160H180v160Zm220 220h160v-160H400v160Zm0 220h160v-160H400v160ZM180-400h160v-160H180v160Zm440 0h160v-160H620v160ZM180-180h160v-160H180v160Zm440 0h160v-160H620v160Z\"/>\n",
              "  </svg>\n",
              "    </button>\n",
              "\n",
              "  <style>\n",
              "    .colab-df-container {\n",
              "      display:flex;\n",
              "      gap: 12px;\n",
              "    }\n",
              "\n",
              "    .colab-df-convert {\n",
              "      background-color: #E8F0FE;\n",
              "      border: none;\n",
              "      border-radius: 50%;\n",
              "      cursor: pointer;\n",
              "      display: none;\n",
              "      fill: #1967D2;\n",
              "      height: 32px;\n",
              "      padding: 0 0 0 0;\n",
              "      width: 32px;\n",
              "    }\n",
              "\n",
              "    .colab-df-convert:hover {\n",
              "      background-color: #E2EBFA;\n",
              "      box-shadow: 0px 1px 2px rgba(60, 64, 67, 0.3), 0px 1px 3px 1px rgba(60, 64, 67, 0.15);\n",
              "      fill: #174EA6;\n",
              "    }\n",
              "\n",
              "    .colab-df-buttons div {\n",
              "      margin-bottom: 4px;\n",
              "    }\n",
              "\n",
              "    [theme=dark] .colab-df-convert {\n",
              "      background-color: #3B4455;\n",
              "      fill: #D2E3FC;\n",
              "    }\n",
              "\n",
              "    [theme=dark] .colab-df-convert:hover {\n",
              "      background-color: #434B5C;\n",
              "      box-shadow: 0px 1px 3px 1px rgba(0, 0, 0, 0.15);\n",
              "      filter: drop-shadow(0px 1px 2px rgba(0, 0, 0, 0.3));\n",
              "      fill: #FFFFFF;\n",
              "    }\n",
              "  </style>\n",
              "\n",
              "    <script>\n",
              "      const buttonEl =\n",
              "        document.querySelector('#df-89f8d088-21dd-4781-bcc6-71e5e0225664 button.colab-df-convert');\n",
              "      buttonEl.style.display =\n",
              "        google.colab.kernel.accessAllowed ? 'block' : 'none';\n",
              "\n",
              "      async function convertToInteractive(key) {\n",
              "        const element = document.querySelector('#df-89f8d088-21dd-4781-bcc6-71e5e0225664');\n",
              "        const dataTable =\n",
              "          await google.colab.kernel.invokeFunction('convertToInteractive',\n",
              "                                                    [key], {});\n",
              "        if (!dataTable) return;\n",
              "\n",
              "        const docLinkHtml = 'Like what you see? Visit the ' +\n",
              "          '<a target=\"_blank\" href=https://colab.research.google.com/notebooks/data_table.ipynb>data table notebook</a>'\n",
              "          + ' to learn more about interactive tables.';\n",
              "        element.innerHTML = '';\n",
              "        dataTable['output_type'] = 'display_data';\n",
              "        await google.colab.output.renderOutput(dataTable, element);\n",
              "        const docLink = document.createElement('div');\n",
              "        docLink.innerHTML = docLinkHtml;\n",
              "        element.appendChild(docLink);\n",
              "      }\n",
              "    </script>\n",
              "  </div>\n",
              "\n",
              "\n",
              "    <div id=\"df-bd0c7df6-538c-44cf-9094-b5ff59a35bdb\">\n",
              "      <button class=\"colab-df-quickchart\" onclick=\"quickchart('df-bd0c7df6-538c-44cf-9094-b5ff59a35bdb')\"\n",
              "                title=\"Suggest charts\"\n",
              "                style=\"display:none;\">\n",
              "\n",
              "<svg xmlns=\"http://www.w3.org/2000/svg\" height=\"24px\"viewBox=\"0 0 24 24\"\n",
              "     width=\"24px\">\n",
              "    <g>\n",
              "        <path d=\"M19 3H5c-1.1 0-2 .9-2 2v14c0 1.1.9 2 2 2h14c1.1 0 2-.9 2-2V5c0-1.1-.9-2-2-2zM9 17H7v-7h2v7zm4 0h-2V7h2v10zm4 0h-2v-4h2v4z\"/>\n",
              "    </g>\n",
              "</svg>\n",
              "      </button>\n",
              "\n",
              "<style>\n",
              "  .colab-df-quickchart {\n",
              "      --bg-color: #E8F0FE;\n",
              "      --fill-color: #1967D2;\n",
              "      --hover-bg-color: #E2EBFA;\n",
              "      --hover-fill-color: #174EA6;\n",
              "      --disabled-fill-color: #AAA;\n",
              "      --disabled-bg-color: #DDD;\n",
              "  }\n",
              "\n",
              "  [theme=dark] .colab-df-quickchart {\n",
              "      --bg-color: #3B4455;\n",
              "      --fill-color: #D2E3FC;\n",
              "      --hover-bg-color: #434B5C;\n",
              "      --hover-fill-color: #FFFFFF;\n",
              "      --disabled-bg-color: #3B4455;\n",
              "      --disabled-fill-color: #666;\n",
              "  }\n",
              "\n",
              "  .colab-df-quickchart {\n",
              "    background-color: var(--bg-color);\n",
              "    border: none;\n",
              "    border-radius: 50%;\n",
              "    cursor: pointer;\n",
              "    display: none;\n",
              "    fill: var(--fill-color);\n",
              "    height: 32px;\n",
              "    padding: 0;\n",
              "    width: 32px;\n",
              "  }\n",
              "\n",
              "  .colab-df-quickchart:hover {\n",
              "    background-color: var(--hover-bg-color);\n",
              "    box-shadow: 0 1px 2px rgba(60, 64, 67, 0.3), 0 1px 3px 1px rgba(60, 64, 67, 0.15);\n",
              "    fill: var(--button-hover-fill-color);\n",
              "  }\n",
              "\n",
              "  .colab-df-quickchart-complete:disabled,\n",
              "  .colab-df-quickchart-complete:disabled:hover {\n",
              "    background-color: var(--disabled-bg-color);\n",
              "    fill: var(--disabled-fill-color);\n",
              "    box-shadow: none;\n",
              "  }\n",
              "\n",
              "  .colab-df-spinner {\n",
              "    border: 2px solid var(--fill-color);\n",
              "    border-color: transparent;\n",
              "    border-bottom-color: var(--fill-color);\n",
              "    animation:\n",
              "      spin 1s steps(1) infinite;\n",
              "  }\n",
              "\n",
              "  @keyframes spin {\n",
              "    0% {\n",
              "      border-color: transparent;\n",
              "      border-bottom-color: var(--fill-color);\n",
              "      border-left-color: var(--fill-color);\n",
              "    }\n",
              "    20% {\n",
              "      border-color: transparent;\n",
              "      border-left-color: var(--fill-color);\n",
              "      border-top-color: var(--fill-color);\n",
              "    }\n",
              "    30% {\n",
              "      border-color: transparent;\n",
              "      border-left-color: var(--fill-color);\n",
              "      border-top-color: var(--fill-color);\n",
              "      border-right-color: var(--fill-color);\n",
              "    }\n",
              "    40% {\n",
              "      border-color: transparent;\n",
              "      border-right-color: var(--fill-color);\n",
              "      border-top-color: var(--fill-color);\n",
              "    }\n",
              "    60% {\n",
              "      border-color: transparent;\n",
              "      border-right-color: var(--fill-color);\n",
              "    }\n",
              "    80% {\n",
              "      border-color: transparent;\n",
              "      border-right-color: var(--fill-color);\n",
              "      border-bottom-color: var(--fill-color);\n",
              "    }\n",
              "    90% {\n",
              "      border-color: transparent;\n",
              "      border-bottom-color: var(--fill-color);\n",
              "    }\n",
              "  }\n",
              "</style>\n",
              "\n",
              "      <script>\n",
              "        async function quickchart(key) {\n",
              "          const quickchartButtonEl =\n",
              "            document.querySelector('#' + key + ' button');\n",
              "          quickchartButtonEl.disabled = true;  // To prevent multiple clicks.\n",
              "          quickchartButtonEl.classList.add('colab-df-spinner');\n",
              "          try {\n",
              "            const charts = await google.colab.kernel.invokeFunction(\n",
              "                'suggestCharts', [key], {});\n",
              "          } catch (error) {\n",
              "            console.error('Error during call to suggestCharts:', error);\n",
              "          }\n",
              "          quickchartButtonEl.classList.remove('colab-df-spinner');\n",
              "          quickchartButtonEl.classList.add('colab-df-quickchart-complete');\n",
              "        }\n",
              "        (() => {\n",
              "          let quickchartButtonEl =\n",
              "            document.querySelector('#df-bd0c7df6-538c-44cf-9094-b5ff59a35bdb button');\n",
              "          quickchartButtonEl.style.display =\n",
              "            google.colab.kernel.accessAllowed ? 'block' : 'none';\n",
              "        })();\n",
              "      </script>\n",
              "    </div>\n",
              "\n",
              "    </div>\n",
              "  </div>\n"
            ],
            "application/vnd.google.colaboratory.intrinsic+json": {
              "type": "dataframe",
              "variable_name": "df",
              "summary": "{\n  \"name\": \"df\",\n  \"rows\": 4233,\n  \"fields\": [\n    {\n      \"column\": \"customer_id\",\n      \"properties\": {\n        \"dtype\": \"number\",\n        \"std\": 418,\n        \"min\": 1,\n        \"max\": 1445,\n        \"num_unique_values\": 1445,\n        \"samples\": [\n          1006,\n          112,\n          1173\n        ],\n        \"semantic_type\": \"\",\n        \"description\": \"\"\n      }\n    },\n    {\n      \"column\": \"total_spent\",\n      \"properties\": {\n        \"dtype\": \"number\",\n        \"std\": 5207.04609807869,\n        \"min\": 104.4905,\n        \"max\": 34807.9392,\n        \"num_unique_values\": 1368,\n        \"samples\": [\n          6515.955,\n          1611.0747,\n          4162.8555\n        ],\n        \"semantic_type\": \"\",\n        \"description\": \"\"\n      }\n    },\n    {\n      \"column\": \"latest_purchased_brand\",\n      \"properties\": {\n        \"dtype\": \"number\",\n        \"std\": 3,\n        \"min\": 1,\n        \"max\": 9,\n        \"num_unique_values\": 9,\n        \"samples\": [\n          5,\n          1,\n          8\n        ],\n        \"semantic_type\": \"\",\n        \"description\": \"\"\n      }\n    },\n    {\n      \"column\": \"latest_brand_tier\",\n      \"properties\": {\n        \"dtype\": \"category\",\n        \"num_unique_values\": 3,\n        \"samples\": [\n          \"high\",\n          \"mid\",\n          \"low\"\n        ],\n        \"semantic_type\": \"\",\n        \"description\": \"\"\n      }\n    },\n    {\n      \"column\": \"most_purchased_brand\",\n      \"properties\": {\n        \"dtype\": \"number\",\n        \"std\": 3,\n        \"min\": 1,\n        \"max\": 9,\n        \"num_unique_values\": 9,\n        \"samples\": [\n          4,\n          1,\n          3\n        ],\n        \"semantic_type\": \"\",\n        \"description\": \"\"\n      }\n    },\n    {\n      \"column\": \"most_purchased_brand_tier\",\n      \"properties\": {\n        \"dtype\": \"category\",\n        \"num_unique_values\": 3,\n        \"samples\": [\n          \"high\",\n          \"mid\",\n          \"low\"\n        ],\n        \"semantic_type\": \"\",\n        \"description\": \"\"\n      }\n    },\n    {\n      \"column\": \"latest_brand_name\",\n      \"properties\": {\n        \"dtype\": \"category\",\n        \"num_unique_values\": 9,\n        \"samples\": [\n          \"Ritchey\",\n          \"Electra\",\n          \"Surly\"\n        ],\n        \"semantic_type\": \"\",\n        \"description\": \"\"\n      }\n    },\n    {\n      \"column\": \"most_purchased_brand_name\",\n      \"properties\": {\n        \"dtype\": \"category\",\n        \"num_unique_values\": 9,\n        \"samples\": [\n          \"Pure Cycles\",\n          \"Electra\",\n          \"Heller\"\n        ],\n        \"semantic_type\": \"\",\n        \"description\": \"\"\n      }\n    }\n  ]\n}"
            }
          },
          "metadata": {},
          "execution_count": 2
        }
      ]
    },
    {
      "cell_type": "code",
      "source": [
        "df.drop(columns='customer_id', inplace=True)\n",
        "df.info()"
      ],
      "metadata": {
        "colab": {
          "base_uri": "https://localhost:8080/"
        },
        "id": "vAXf1zPkqy31",
        "outputId": "48225f48-b0c8-4c1d-bc9a-1f9fe8ceb733"
      },
      "execution_count": 3,
      "outputs": [
        {
          "output_type": "stream",
          "name": "stdout",
          "text": [
            "<class 'pandas.core.frame.DataFrame'>\n",
            "RangeIndex: 4233 entries, 0 to 4232\n",
            "Data columns (total 7 columns):\n",
            " #   Column                     Non-Null Count  Dtype  \n",
            "---  ------                     --------------  -----  \n",
            " 0   total_spent                4233 non-null   float64\n",
            " 1   latest_purchased_brand     4233 non-null   int64  \n",
            " 2   latest_brand_tier          4233 non-null   object \n",
            " 3   most_purchased_brand       4233 non-null   int64  \n",
            " 4   most_purchased_brand_tier  4233 non-null   object \n",
            " 5   latest_brand_name          4233 non-null   object \n",
            " 6   most_purchased_brand_name  4233 non-null   object \n",
            "dtypes: float64(1), int64(2), object(4)\n",
            "memory usage: 231.6+ KB\n"
          ]
        }
      ]
    },
    {
      "cell_type": "markdown",
      "source": [
        "**Conclusion:**\n",
        "- I removed the `Customer ID` variable because it has no statistical\n",
        "significance.\n",
        "- All variables have 4,233 values, indicating there are no missing values.\n",
        "\n",
        "- `latest_purchased_brand` and `most_purchased_brand_name` are ordinal categorical variables, so I will map them according to their order for encoding (high=3, mid=2, low=1).\n",
        "\n",
        "- `latest_brand_tier` and `most_purchased_brand_tier` are nominal categorical variables, so I will use LabelEncoder to encode them.\n",
        "\n",
        "- Target variable: The goal is to predict the product segment that a customer will purchase (`latest_brand_tier`). This helps the sales team adjust marketing strategies for each customer. This is a multi-class classification problem (High, Mid, Low).\n",
        "\n",
        "- Algorithm choice: With a relatively small dataset of 4,233 samples and 5 independent variables, **Logistic Regression** is a suitable choice."
      ],
      "metadata": {
        "id": "Hk_hFe987iK5"
      }
    },
    {
      "cell_type": "markdown",
      "source": [
        "#**Feature Encoding**"
      ],
      "metadata": {
        "id": "9wGBcQak8c0z"
      }
    },
    {
      "cell_type": "markdown",
      "source": [
        "Encode **nominal categorical variables**: `latest_brand_name` and `most_purchased_brand_name` (since these two variables contain the same set of values, the encoder only needs to be fitted once)."
      ],
      "metadata": {
        "id": "T0npsEDu91VW"
      }
    },
    {
      "cell_type": "code",
      "source": [
        "Encoder = LabelEncoder()\n",
        "df['latest_brand_name'] = Encoder.fit_transform(df['latest_brand_name'])\n",
        "df['most_purchased_brand_name'] = Encoder.transform(df['most_purchased_brand_name'])\n",
        "mapping = dict(zip(Encoder.classes_, range(len(Encoder.classes_))))\n",
        "print(mapping)"
      ],
      "metadata": {
        "colab": {
          "base_uri": "https://localhost:8080/"
        },
        "id": "FeT5IugSwjxs",
        "outputId": "88750f6d-cce5-4dca-975c-88876ea95ba4"
      },
      "execution_count": 4,
      "outputs": [
        {
          "output_type": "stream",
          "name": "stdout",
          "text": [
            "{'Electra': 0, 'Haro': 1, 'Heller': 2, 'Pure Cycles': 3, 'Ritchey': 4, 'Strider': 5, 'Sun Bicycles': 6, 'Surly': 7, 'Trek': 8}\n"
          ]
        }
      ]
    },
    {
      "cell_type": "markdown",
      "source": [
        "Encode **ordinal categorical variables**: `latest_brand_tier` and `most_purchased_brand_tier` (mapping: high = 3, mid = 2, low = 1)."
      ],
      "metadata": {
        "id": "JkVnnpRL97tV"
      }
    },
    {
      "cell_type": "code",
      "source": [
        "tier_mapping = {'high': 3, 'mid': 2, 'low': 1}\n",
        "df['latest_brand_tier'] = df['latest_brand_tier'].map(tier_mapping)\n",
        "df['most_purchased_brand_tier'] = df['most_purchased_brand_tier'].map(tier_mapping)"
      ],
      "metadata": {
        "id": "VZ6DiPR8raqn"
      },
      "execution_count": 5,
      "outputs": []
    },
    {
      "cell_type": "markdown",
      "source": [
        "# **Oversampling Minority Class**"
      ],
      "metadata": {
        "id": "eTi1fF2A_Uqw"
      }
    },
    {
      "cell_type": "code",
      "source": [
        "value_counts = df['latest_brand_tier'].value_counts()\n",
        "value_counts"
      ],
      "metadata": {
        "colab": {
          "base_uri": "https://localhost:8080/",
          "height": 209
        },
        "id": "ypr6NPOxtfyW",
        "outputId": "70132e16-a4c4-4d86-db32-13f57e886c5d"
      },
      "execution_count": 6,
      "outputs": [
        {
          "output_type": "execute_result",
          "data": {
            "text/plain": [
              "latest_brand_tier\n",
              "2    2283\n",
              "3    1709\n",
              "1     241\n",
              "Name: count, dtype: int64"
            ],
            "text/html": [
              "<div>\n",
              "<style scoped>\n",
              "    .dataframe tbody tr th:only-of-type {\n",
              "        vertical-align: middle;\n",
              "    }\n",
              "\n",
              "    .dataframe tbody tr th {\n",
              "        vertical-align: top;\n",
              "    }\n",
              "\n",
              "    .dataframe thead th {\n",
              "        text-align: right;\n",
              "    }\n",
              "</style>\n",
              "<table border=\"1\" class=\"dataframe\">\n",
              "  <thead>\n",
              "    <tr style=\"text-align: right;\">\n",
              "      <th></th>\n",
              "      <th>count</th>\n",
              "    </tr>\n",
              "    <tr>\n",
              "      <th>latest_brand_tier</th>\n",
              "      <th></th>\n",
              "    </tr>\n",
              "  </thead>\n",
              "  <tbody>\n",
              "    <tr>\n",
              "      <th>2</th>\n",
              "      <td>2283</td>\n",
              "    </tr>\n",
              "    <tr>\n",
              "      <th>3</th>\n",
              "      <td>1709</td>\n",
              "    </tr>\n",
              "    <tr>\n",
              "      <th>1</th>\n",
              "      <td>241</td>\n",
              "    </tr>\n",
              "  </tbody>\n",
              "</table>\n",
              "</div><br><label><b>dtype:</b> int64</label>"
            ]
          },
          "metadata": {},
          "execution_count": 6
        }
      ]
    },
    {
      "cell_type": "markdown",
      "source": [
        "Class 1 only contains **241 samples**, which is heavily underrepresented compared to the other two classes. I will use SMOTE to oversample this class to **1,200 samples**."
      ],
      "metadata": {
        "id": "dnp07JWhBVmc"
      }
    },
    {
      "cell_type": "code",
      "source": [
        "X = df.drop(columns=['latest_brand_tier'])\n",
        "y = df['latest_brand_tier']\n",
        "\n",
        "X_train, X_test, y_train, y_test = train_test_split(X, y, test_size=0.3, random_state=42)\n",
        "\n",
        "smote = SMOTE(sampling_strategy={1: 1200}, random_state=42)\n",
        "X_train, y_train = smote.fit_resample(X_train, y_train)\n",
        "\n",
        "scaler = StandardScaler()\n",
        "X_train = scaler.fit_transform(X_train)\n",
        "X_test = scaler.transform(X_test)"
      ],
      "metadata": {
        "id": "h1NP82d4sET-"
      },
      "execution_count": 7,
      "outputs": []
    },
    {
      "cell_type": "markdown",
      "source": [
        "# **Machine Learning with Logistic Regression**"
      ],
      "metadata": {
        "id": "Hd-IUzJHD2D-"
      }
    },
    {
      "cell_type": "markdown",
      "source": [
        "**Logistic Regression Model Setup**\n",
        "\n",
        "I initialize the Logistic Regression model with the following parameters:\n",
        "\n",
        "- **penalty='elasticnet'**  \n",
        "  Use Elastic Net regularization, which combines L1 (lasso) and L2 (ridge).  \n",
        "  This helps with feature selection (L1) and model stability/generalization (L2).\n",
        "\n",
        "- **l1_ratio=0.4**  \n",
        "  Determines the mix between L1 and L2.  \n",
        "  Here, 40% weight is given to L1 and 60% to L2, balancing sparsity and stability.\n",
        "\n",
        "- **class_weight=weights**  \n",
        "  Handles class imbalance by assigning higher weight to the minority class (class 1),  \n",
        "  so the model pays more attention to underrepresented classes.\n",
        "\n",
        "- **solver='saga'**  \n",
        "  The 'saga' solver supports Elastic Net and works efficiently with large datasets  \n",
        "  and sparse data.\n",
        "\n",
        "- **max_iter=1000**  \n",
        "  Sets the maximum number of iterations to ensure the optimization algorithm converges.\n",
        "\n",
        "- **random_state=42**  \n",
        "  Fixes the random seed to ensure reproducibility of results.\n"
      ],
      "metadata": {
        "id": "6bu5EthvEfdf"
      }
    },
    {
      "cell_type": "code",
      "source": [
        "weights = {1: 3, 2: 1, 3: 1}\n",
        "model = LogisticRegression(\n",
        "    penalty='elasticnet',\n",
        "    l1_ratio=0.4,\n",
        "    class_weight=weights,\n",
        "    solver='saga',\n",
        "    max_iter=1000,\n",
        "    random_state=42\n",
        ")\n",
        "\n",
        "score = cross_val_score(model, X_train, y_train, cv=5, scoring='roc_auc_ovr')\n",
        "print(\"Mean AUC (OVR):\", np.mean(score))"
      ],
      "metadata": {
        "colab": {
          "base_uri": "https://localhost:8080/"
        },
        "id": "XRPCeG-CNzTo",
        "outputId": "fcb7824c-ea62-4166-c372-78acaaec938a"
      },
      "execution_count": 8,
      "outputs": [
        {
          "output_type": "stream",
          "name": "stdout",
          "text": [
            "Mean AUC (OVR): 0.942415183628645\n"
          ]
        }
      ]
    },
    {
      "cell_type": "code",
      "source": [
        "print(\"Mean AUC (OVR):\", np.mean(score))"
      ],
      "metadata": {
        "colab": {
          "base_uri": "https://localhost:8080/"
        },
        "id": "RMm9ZZbbQO0J",
        "outputId": "56b8f5c3-d801-440f-9940-12cd053bf828"
      },
      "execution_count": 9,
      "outputs": [
        {
          "output_type": "stream",
          "name": "stdout",
          "text": [
            "Mean AUC (OVR): 0.942415183628645\n"
          ]
        }
      ]
    },
    {
      "cell_type": "code",
      "source": [
        "plt.figure(figsize=(8,5))\n",
        "plt.bar(range(1, len(score)+1), score, color='skyblue')\n",
        "plt.axhline(np.mean(score), color='red', linestyle='--', label='Mean AUC')\n",
        "plt.xlabel('Fold')\n",
        "plt.ylabel('AUC (OVR)')\n",
        "plt.title('AUC per Fold')\n",
        "plt.ylim(0.9,1)\n",
        "plt.legend()\n",
        "plt.show()"
      ],
      "metadata": {
        "colab": {
          "base_uri": "https://localhost:8080/",
          "height": 487
        },
        "id": "e5SG5_XAZb_b",
        "outputId": "7635717c-bea4-4b0a-9c99-27d331dc3e2a"
      },
      "execution_count": 10,
      "outputs": [
        {
          "output_type": "display_data",
          "data": {
            "text/plain": [
              "<Figure size 800x500 with 1 Axes>"
            ],
            "image/png": "[encoded data removed]"
          },
          "metadata": {}
        }
      ]
    },
    {
      "cell_type": "code",
      "source": [
        "model.fit(X_train, y_train)\n",
        "report= classification_report(y_test, model.predict(X_test))\n",
        "print(report)"
      ],
      "metadata": {
        "colab": {
          "base_uri": "https://localhost:8080/"
        },
        "id": "Iqw0RBtuTFYH",
        "outputId": "d5b9359c-f045-4467-dbb4-4f166c4d3834"
      },
      "execution_count": 11,
      "outputs": [
        {
          "output_type": "stream",
          "name": "stdout",
          "text": [
            "              precision    recall  f1-score   support\n",
            "\n",
            "           1       0.35      0.95      0.51        65\n",
            "           2       0.97      0.75      0.85       709\n",
            "           3       0.86      0.93      0.89       496\n",
            "\n",
            "    accuracy                           0.83      1270\n",
            "   macro avg       0.72      0.88      0.75      1270\n",
            "weighted avg       0.89      0.83      0.85      1270\n",
            "\n"
          ]
        }
      ]
    },
    {
      "cell_type": "markdown",
      "source": [
        "After performing **5-fold cross-validation**, the model achieved a mean **AUC** of **0.94**, indicating strong overall discriminative performance.\n"
      ],
      "metadata": {
        "id": "TcnhEZAzFHrv"
      }
    },
    {
      "cell_type": "code",
      "source": [
        "y_test_bin = label_binarize(y_test, classes=[1, 2, 3])\n",
        "n_classes = y_test_bin.shape[1]\n",
        "\n",
        "y_score = model.predict_proba(X_test)\n",
        "\n",
        "fpr = dict()\n",
        "tpr = dict()\n",
        "roc_auc = dict()\n",
        "for i in range(n_classes):\n",
        "    fpr[i], tpr[i], _ = roc_curve(y_test_bin[:, i], y_score[:, i])\n",
        "    roc_auc[i] = auc(fpr[i], tpr[i])\n",
        "\n",
        "plt.figure()\n",
        "colors = ['blue', 'red', 'green']\n",
        "for i, color in zip(range(n_classes), colors):\n",
        "    plt.plot(fpr[i], tpr[i], color=color, lw=2,\n",
        "             label='Class {0} ROC (AUC = {1:0.2f})'.format(i+1, roc_auc[i]))\n",
        "\n",
        "plt.plot([0, 1], [0, 1], color='gray', lw=1, linestyle='--')\n",
        "plt.xlim([0.0, 1.0])\n",
        "plt.ylim([0.0, 1.05])\n",
        "plt.xlabel('False Positive Rate')\n",
        "plt.ylabel('True Positive Rate')\n",
        "plt.title('Multi-class ROC Curve')\n",
        "plt.legend(loc=\"lower right\")\n",
        "plt.show()"
      ],
      "metadata": {
        "colab": {
          "base_uri": "https://localhost:8080/",
          "height": 472
        },
        "id": "G1zJvrSxr3kr",
        "outputId": "08a14cb5-2bd0-42b1-8692-394dea1c1f2a"
      },
      "execution_count": 12,
      "outputs": [
        {
          "output_type": "display_data",
          "data": {
            "text/plain": [
              "<Figure size 640x480 with 1 Axes>"
            ],
            "image/png": "[encoded data removed]"
          },
          "metadata": {}
        }
      ]
    },
    {
      "cell_type": "markdown",
      "source": [
        "When evaluated on the testing set (20% of the dataset), the model achieved an AUC of **0.94** for **class 1**, **0.96** for **class 2**, and **0.99** for **class 3**.  \n",
        "However, these results are only indicative, as the test set may not fully represent the entire dataset."
      ],
      "metadata": {
        "id": "tGUlyOcWKEAG"
      }
    }
  ]
}
